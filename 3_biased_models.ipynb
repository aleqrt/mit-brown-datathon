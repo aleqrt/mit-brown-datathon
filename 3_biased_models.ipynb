{
 "cells": [
  {
   "cell_type": "markdown",
   "id": "f92ac2b6-2a7a-4292-b243-b10c1fb4cd93",
   "metadata": {},
   "source": [
    "# 3. Model with biased features to predict Mortality"
   ]
  },
  {
   "cell_type": "markdown",
   "id": "c1936df8-4057-457a-a38b-f3e05d6a1a7d",
   "metadata": {},
   "source": [
    "In this final notebook, we will create a  machine learning (ML) to predict in-hospital mortality, but now using the modified features, i.e, exaggerating the biases that we may see in real-world data. Copy any code that you may need from the previous notebooks. Please select the features according to the track that has been assigned to your team! In the end, please compare the results, and prepare your presentation!"
   ]
  },
  {
   "cell_type": "markdown",
   "id": "c07d2790-d39a-4310-94fb-c72c2106a27d",
   "metadata": {},
   "source": [
    "## Import libraries"
   ]
  },
  {
   "cell_type": "code",
   "execution_count": 23,
   "id": "2eb5fd68-764d-43ce-af91-d072c3e9505a",
   "metadata": {},
   "outputs": [],
   "source": [
    "import pandas as pd\n",
    "import numpy as np\n",
    "import matplotlib.pyplot as plt\n",
    "import os\n",
    "import warnings\n",
    "warnings.filterwarnings(\"ignore\")"
   ]
  },
  {
   "cell_type": "code",
   "execution_count": 24,
   "id": "e5abcce1-e089-43a0-984c-7931e54cb7da",
   "metadata": {},
   "outputs": [],
   "source": [
    "# some possibilities for modelling and evaluation, uncomment if necessary!\n",
    "\n",
    "import seaborn as sns\n",
    "from sklearn.linear_model import LogisticRegression\n",
    "from sklearn.model_selection import train_test_split\n",
    "from sklearn.metrics import accuracy_score, confusion_matrix, classification_report, roc_auc_score, roc_curve\n",
    "from sklearn.preprocessing import LabelEncoder, StandardScaler\n",
    "from sklearn.impute import SimpleImputer\n",
    "# from sklearn.ensemble import RandomForestClassifier\n",
    "from imblearn.under_sampling import RandomUnderSampler\n",
    "import shap\n"
   ]
  },
  {
   "cell_type": "code",
   "execution_count": 25,
   "id": "fecd4915-384e-434e-8e35-9db35b57f1a7",
   "metadata": {},
   "outputs": [],
   "source": [
    "# import XGBoost, as an examplar, if this is the model you go for\n",
    "\n",
    "# try:\n",
    "#     from xgboost import XGBClassifier\n",
    "# except (ModuleNotFoundError, ImportError):\n",
    "#     # install if necessary\n",
    "#     !pip install xgboost\n",
    "#     from xgboost import XGBClassifier"
   ]
  },
  {
   "cell_type": "markdown",
   "id": "8c301830-d8ef-4d83-bd9d-9c79a64ee487",
   "metadata": {
    "id": "b49c785a-48dd-4bb4-a769-7ac5f1307904"
   },
   "source": [
    "## Load train and test data"
   ]
  },
  {
   "cell_type": "code",
   "execution_count": 26,
   "id": "0ee93f8e-440c-4493-964f-864a8d62641e",
   "metadata": {
    "id": "VpGua9j2a0SO"
   },
   "outputs": [],
   "source": [
    "# Load the training and test data\n",
    "train_data = pd.read_csv('data_split/wids_train.csv')\n",
    "test_data = pd.read_csv('data_split/wids_test.csv')"
   ]
  },
  {
   "cell_type": "markdown",
   "id": "e07c8ecb-1c12-4914-bf9c-7d8b848e1d49",
   "metadata": {
    "id": "xaF69Iqsbrol"
   },
   "source": [
    "### Separate features and target variable"
   ]
  },
  {
   "cell_type": "code",
   "execution_count": 27,
   "id": "a460a9a6-5f00-4488-8339-e19e46788486",
   "metadata": {
    "id": "w7yOFE8cbqr0"
   },
   "outputs": [],
   "source": [
    "X = train_data.drop(columns=['hospital_death'])\n",
    "y = train_data['hospital_death']\n",
    "\n",
    "X_test = test_data.drop(columns=['hospital_death'])\n",
    "y_test = test_data['hospital_death']"
   ]
  },
  {
   "cell_type": "code",
   "execution_count": 28,
   "id": "06eeea26-c46f-49ab-8ffe-aae41ff5b425",
   "metadata": {},
   "outputs": [
    {
     "name": "stdout",
     "output_type": "stream",
     "text": [
      "<class 'pandas.core.frame.DataFrame'>\n",
      "RangeIndex: 73370 entries, 0 to 73369\n",
      "Data columns (total 44 columns):\n",
      " #   Column              Non-Null Count  Dtype  \n",
      "---  ------              --------------  -----  \n",
      " 0   Unnamed: 0          73370 non-null  int64  \n",
      " 1   encounter_id        73370 non-null  int64  \n",
      " 2   patient_id          73370 non-null  int64  \n",
      " 3   hospital_id         73370 non-null  int64  \n",
      " 4   age                 69983 non-null  float64\n",
      " 5   ethnicity           72264 non-null  object \n",
      " 6   gender              73353 non-null  object \n",
      " 7   bmi                 70604 non-null  float64\n",
      " 8   icu_admit_source    73282 non-null  object \n",
      " 9   icu_type            73370 non-null  object \n",
      " 10  d1_heartrate_max    73254 non-null  float64\n",
      " 11  d1_heartrate_min    73254 non-null  float64\n",
      " 12  d1_mbp_max          73189 non-null  float64\n",
      " 13  d1_mbp_min          73189 non-null  float64\n",
      " 14  d1_sysbp_max        73237 non-null  float64\n",
      " 15  d1_sysbp_min        73237 non-null  float64\n",
      " 16  d1_diasbp_max       73232 non-null  float64\n",
      " 17  d1_diasbp_min       73232 non-null  float64\n",
      " 18  d1_resprate_max     73060 non-null  float64\n",
      " 19  d1_resprate_min     73060 non-null  float64\n",
      " 20  d1_temp_max         71512 non-null  float64\n",
      " 21  d1_temp_min         71512 non-null  float64\n",
      " 22  d1_albumin_min      34169 non-null  float64\n",
      " 23  d1_bilirubin_max    30516 non-null  float64\n",
      " 24  d1_bun_max          64937 non-null  float64\n",
      " 25  d1_calcium_max      62885 non-null  float64\n",
      " 26  d1_calcium_min      62885 non-null  float64\n",
      " 27  d1_creatinine_max   65213 non-null  float64\n",
      " 28  d1_glucose_max      68709 non-null  float64\n",
      " 29  d1_glucose_min      68709 non-null  float64\n",
      " 30  d1_hco3_min         61301 non-null  float64\n",
      " 31  d1_hemaglobin_min   63667 non-null  float64\n",
      " 32  d1_hematocrit_min   64065 non-null  float64\n",
      " 33  d1_inr_max          27010 non-null  float64\n",
      " 34  d1_platelets_min    62596 non-null  float64\n",
      " 35  d1_potassium_max    65683 non-null  float64\n",
      " 36  d1_potassium_min    65683 non-null  float64\n",
      " 37  d1_sodium_max       65201 non-null  float64\n",
      " 38  d1_sodium_min       65201 non-null  float64\n",
      " 39  d1_wbc_max          62828 non-null  float64\n",
      " 40  d1_spo2_min_new     73099 non-null  float64\n",
      " 41  d1_lactate_max_new  16672 non-null  float64\n",
      " 42  d1_spo2_min         73099 non-null  float64\n",
      " 43  d1_lactate_max      18643 non-null  float64\n",
      "dtypes: float64(36), int64(4), object(4)\n",
      "memory usage: 24.6+ MB\n"
     ]
    }
   ],
   "source": [
    "X.info()"
   ]
  },
  {
   "cell_type": "code",
   "execution_count": 29,
   "id": "2d1f15b5-c985-4036-a243-7035c62ff361",
   "metadata": {},
   "outputs": [
    {
     "name": "stdout",
     "output_type": "stream",
     "text": [
      "<class 'pandas.core.series.Series'>\n",
      "RangeIndex: 73370 entries, 0 to 73369\n",
      "Series name: hospital_death\n",
      "Non-Null Count  Dtype\n",
      "--------------  -----\n",
      "73370 non-null  int64\n",
      "dtypes: int64(1)\n",
      "memory usage: 573.3 KB\n"
     ]
    }
   ],
   "source": [
    "y.info()"
   ]
  },
  {
   "cell_type": "code",
   "execution_count": 30,
   "id": "54132c35-c90e-492e-9ae8-7ef6aa06d8ff",
   "metadata": {},
   "outputs": [
    {
     "name": "stdout",
     "output_type": "stream",
     "text": [
      "<class 'pandas.core.frame.DataFrame'>\n",
      "RangeIndex: 18343 entries, 0 to 18342\n",
      "Data columns (total 44 columns):\n",
      " #   Column              Non-Null Count  Dtype  \n",
      "---  ------              --------------  -----  \n",
      " 0   Unnamed: 0          18343 non-null  int64  \n",
      " 1   encounter_id        18343 non-null  int64  \n",
      " 2   patient_id          18343 non-null  int64  \n",
      " 3   hospital_id         18343 non-null  int64  \n",
      " 4   age                 17502 non-null  float64\n",
      " 5   ethnicity           18054 non-null  object \n",
      " 6   gender              18335 non-null  object \n",
      " 7   bmi                 17680 non-null  float64\n",
      " 8   icu_admit_source    18319 non-null  object \n",
      " 9   icu_type            18343 non-null  object \n",
      " 10  d1_heartrate_max    18314 non-null  float64\n",
      " 11  d1_heartrate_min    18314 non-null  float64\n",
      " 12  d1_mbp_max          18304 non-null  float64\n",
      " 13  d1_mbp_min          18304 non-null  float64\n",
      " 14  d1_sysbp_max        18317 non-null  float64\n",
      " 15  d1_sysbp_min        18317 non-null  float64\n",
      " 16  d1_diasbp_max       18316 non-null  float64\n",
      " 17  d1_diasbp_min       18316 non-null  float64\n",
      " 18  d1_resprate_max     18268 non-null  float64\n",
      " 19  d1_resprate_min     18268 non-null  float64\n",
      " 20  d1_temp_max         17877 non-null  float64\n",
      " 21  d1_temp_min         17877 non-null  float64\n",
      " 22  d1_albumin_min      8448 non-null   float64\n",
      " 23  d1_bilirubin_max    7524 non-null   float64\n",
      " 24  d1_bun_max          16262 non-null  float64\n",
      " 25  d1_calcium_max      15759 non-null  float64\n",
      " 26  d1_calcium_min      15759 non-null  float64\n",
      " 27  d1_creatinine_max   16331 non-null  float64\n",
      " 28  d1_glucose_max      17197 non-null  float64\n",
      " 29  d1_glucose_min      17197 non-null  float64\n",
      " 30  d1_hco3_min         15341 non-null  float64\n",
      " 31  d1_hemaglobin_min   15899 non-null  float64\n",
      " 32  d1_hematocrit_min   15994 non-null  float64\n",
      " 33  d1_inr_max          6762 non-null   float64\n",
      " 34  d1_platelets_min    15673 non-null  float64\n",
      " 35  d1_potassium_max    16445 non-null  float64\n",
      " 36  d1_potassium_min    16445 non-null  float64\n",
      " 37  d1_sodium_max       16317 non-null  float64\n",
      " 38  d1_sodium_min       16317 non-null  float64\n",
      " 39  d1_wbc_max          15711 non-null  float64\n",
      " 40  d1_spo2_min_new     18281 non-null  float64\n",
      " 41  d1_lactate_max_new  4151 non-null   float64\n",
      " 42  d1_spo2_min         18281 non-null  float64\n",
      " 43  d1_lactate_max      4674 non-null   float64\n",
      "dtypes: float64(36), int64(4), object(4)\n",
      "memory usage: 6.2+ MB\n"
     ]
    }
   ],
   "source": [
    "X_test.info()"
   ]
  },
  {
   "cell_type": "code",
   "execution_count": 31,
   "id": "5c7fd611-8f64-404d-bf08-cd121c43576e",
   "metadata": {},
   "outputs": [
    {
     "name": "stdout",
     "output_type": "stream",
     "text": [
      "<class 'pandas.core.series.Series'>\n",
      "RangeIndex: 18343 entries, 0 to 18342\n",
      "Series name: hospital_death\n",
      "Non-Null Count  Dtype\n",
      "--------------  -----\n",
      "18343 non-null  int64\n",
      "dtypes: int64(1)\n",
      "memory usage: 143.4 KB\n"
     ]
    }
   ],
   "source": [
    "y_test.info()"
   ]
  },
  {
   "cell_type": "markdown",
   "id": "73505139-ccb7-4d65-a305-ca330e6b1f20",
   "metadata": {},
   "source": [
    "## Select which features to use"
   ]
  },
  {
   "cell_type": "markdown",
   "id": "cade7aa3-6658-46c5-81ec-9b9d00b69326",
   "metadata": {},
   "source": [
    "Please comment the cells that do not apply to your track, and run the one that does apply"
   ]
  },
  {
   "cell_type": "markdown",
   "id": "1d11f81f-8b39-4dc3-b34e-19c9ce384f62",
   "metadata": {},
   "source": [
    "***To make this model's results comparable with the one from the previous notebook, please make sure to keep the same features, except for the SpO2 and/or Lactate***"
   ]
  },
  {
   "cell_type": "markdown",
   "id": "71e82ca2-b7c7-406f-bced-1fd6ff1724a7",
   "metadata": {},
   "source": [
    "### if you are Track 1 (modified SpO2 only)"
   ]
  },
  {
   "cell_type": "markdown",
   "id": "e1d5b78f-43cc-44f5-b455-ebf6757f52bb",
   "metadata": {},
   "source": [
    "We are selecting the minimum SpO2 because it is most representative of a patient's illness severity"
   ]
  },
  {
   "cell_type": "code",
   "execution_count": 32,
   "id": "8bce27af-88ec-4a33-90f4-de81cbfd313e",
   "metadata": {},
   "outputs": [],
   "source": [
    "features = [\n",
    "    'd1_spo2_min_new',\n",
    "    'd1_lactate_max', #original\n",
    "    'bmi',\n",
    "    'age',\n",
    "    'ethnicity',\n",
    "    'gender',\n",
    "    # same features as before\n",
    "]"
   ]
  },
  {
   "cell_type": "code",
   "execution_count": 33,
   "id": "26c3cbe3-594e-4ebe-9dee-804d4e744852",
   "metadata": {
    "id": "JLeZGIHycCsq"
   },
   "outputs": [],
   "source": [
    "X = X[features]\n",
    "X_test = X_test[features]"
   ]
  },
  {
   "cell_type": "code",
   "execution_count": 34,
   "id": "e28dc173-ab27-4689-a44b-f750934e1c0c",
   "metadata": {},
   "outputs": [
    {
     "name": "stdout",
     "output_type": "stream",
     "text": [
      "<class 'pandas.core.frame.DataFrame'>\n",
      "RangeIndex: 73370 entries, 0 to 73369\n",
      "Data columns (total 6 columns):\n",
      " #   Column           Non-Null Count  Dtype  \n",
      "---  ------           --------------  -----  \n",
      " 0   d1_spo2_min_new  73099 non-null  float64\n",
      " 1   d1_lactate_max   18643 non-null  float64\n",
      " 2   bmi              70604 non-null  float64\n",
      " 3   age              69983 non-null  float64\n",
      " 4   ethnicity        72264 non-null  object \n",
      " 5   gender           73353 non-null  object \n",
      "dtypes: float64(4), object(2)\n",
      "memory usage: 3.4+ MB\n"
     ]
    }
   ],
   "source": [
    "X.info()"
   ]
  },
  {
   "cell_type": "code",
   "execution_count": 35,
   "id": "88c2ee9d-05ec-474e-a821-c86b37ad7bfc",
   "metadata": {},
   "outputs": [
    {
     "name": "stdout",
     "output_type": "stream",
     "text": [
      "<class 'pandas.core.frame.DataFrame'>\n",
      "RangeIndex: 18343 entries, 0 to 18342\n",
      "Data columns (total 6 columns):\n",
      " #   Column           Non-Null Count  Dtype  \n",
      "---  ------           --------------  -----  \n",
      " 0   d1_spo2_min_new  18281 non-null  float64\n",
      " 1   d1_lactate_max   4674 non-null   float64\n",
      " 2   bmi              17680 non-null  float64\n",
      " 3   age              17502 non-null  float64\n",
      " 4   ethnicity        18054 non-null  object \n",
      " 5   gender           18335 non-null  object \n",
      "dtypes: float64(4), object(2)\n",
      "memory usage: 860.0+ KB\n"
     ]
    }
   ],
   "source": [
    "X_test.info()"
   ]
  },
  {
   "cell_type": "code",
   "execution_count": 36,
   "id": "14090f44-df0d-4c5b-9fed-1fb2a92eaef1",
   "metadata": {
    "colab": {
     "base_uri": "https://localhost:8080/"
    },
    "id": "ZTuUfo5Zcf3K",
    "outputId": "1946ef7c-a542-481f-fc9a-ddc06f67bf86"
   },
   "outputs": [
    {
     "name": "stdout",
     "output_type": "stream",
     "text": [
      "<class 'pandas.core.series.Series'>\n",
      "RangeIndex: 73370 entries, 0 to 73369\n",
      "Series name: hospital_death\n",
      "Non-Null Count  Dtype\n",
      "--------------  -----\n",
      "73370 non-null  int64\n",
      "dtypes: int64(1)\n",
      "memory usage: 573.3 KB\n"
     ]
    }
   ],
   "source": [
    "y.info()"
   ]
  },
  {
   "cell_type": "code",
   "execution_count": 37,
   "id": "25aa9a88-d01d-4401-a4bb-cd711112ac45",
   "metadata": {
    "colab": {
     "base_uri": "https://localhost:8080/"
    },
    "id": "WIUxUfvBckVj",
    "outputId": "19a34ff1-fd05-4d61-8fb0-6d03ee9a204d"
   },
   "outputs": [
    {
     "name": "stdout",
     "output_type": "stream",
     "text": [
      "<class 'pandas.core.series.Series'>\n",
      "RangeIndex: 18343 entries, 0 to 18342\n",
      "Series name: hospital_death\n",
      "Non-Null Count  Dtype\n",
      "--------------  -----\n",
      "18343 non-null  int64\n",
      "dtypes: int64(1)\n",
      "memory usage: 143.4 KB\n"
     ]
    }
   ],
   "source": [
    "y_test.info()"
   ]
  },
  {
   "cell_type": "markdown",
   "id": "b8a10a09-fbf0-4316-becf-81663b1c3ce8",
   "metadata": {
    "id": "AeU5tG_Qcm45"
   },
   "source": [
    "# Data preparation"
   ]
  },
  {
   "cell_type": "code",
   "execution_count": 38,
   "id": "0ff580c5-995a-4ebe-bc8f-556cfe83acaf",
   "metadata": {},
   "outputs": [],
   "source": [
    "# Handle missing values\n",
    "X_not_nan = X.dropna()\n",
    "y_not_nan = y.loc[X_not_nan.index]"
   ]
  },
  {
   "cell_type": "code",
   "execution_count": 39,
   "id": "07b54c67-51ba-413f-8bfb-2cee0deaaeb8",
   "metadata": {},
   "outputs": [
    {
     "name": "stdout",
     "output_type": "stream",
     "text": [
      "<class 'pandas.core.frame.DataFrame'>\n",
      "Index: 17145 entries, 1 to 73362\n",
      "Data columns (total 6 columns):\n",
      " #   Column           Non-Null Count  Dtype  \n",
      "---  ------           --------------  -----  \n",
      " 0   d1_spo2_min_new  17145 non-null  float64\n",
      " 1   d1_lactate_max   17145 non-null  float64\n",
      " 2   bmi              17145 non-null  float64\n",
      " 3   age              17145 non-null  float64\n",
      " 4   ethnicity        17145 non-null  object \n",
      " 5   gender           17145 non-null  object \n",
      "dtypes: float64(4), object(2)\n",
      "memory usage: 937.6+ KB\n"
     ]
    }
   ],
   "source": [
    "X_not_nan.info()"
   ]
  },
  {
   "cell_type": "code",
   "execution_count": 40,
   "id": "3ceefecb-1f4c-4018-a549-300921b12adf",
   "metadata": {},
   "outputs": [
    {
     "name": "stdout",
     "output_type": "stream",
     "text": [
      "<class 'pandas.core.series.Series'>\n",
      "Index: 17145 entries, 1 to 73362\n",
      "Series name: hospital_death\n",
      "Non-Null Count  Dtype\n",
      "--------------  -----\n",
      "17145 non-null  int64\n",
      "dtypes: int64(1)\n",
      "memory usage: 267.9 KB\n"
     ]
    }
   ],
   "source": [
    "y_not_nan.info()"
   ]
  },
  {
   "cell_type": "code",
   "execution_count": 41,
   "id": "08056b61-3e31-40e7-a290-84a9b9372cfb",
   "metadata": {
    "id": "1eRZNTCMIgbt"
   },
   "outputs": [],
   "source": [
    "# Separate numerical and categorical variables\n",
    "numeric_features = X_not_nan.select_dtypes(include=[np.number]).columns\n",
    "categorical_features = X_not_nan.select_dtypes(include=[object]).columns\n",
    "\n",
    "X_numeric = X_not_nan[numeric_features]\n",
    "X_categorical = X_not_nan[categorical_features]\n",
    "\n",
    "# Binning the 'age' variable into ranges\n",
    "age_bins = [0, 18, 30, 45, 60, 80, np.inf]\n",
    "age_labels = ['0-18', '19-30', '31-45', '46-60', '61-80', '80+']\n",
    "X_numeric['age'] = pd.cut(X_numeric['age'], bins=age_bins, labels=age_labels)\n",
    "\n",
    "# Encode categorical variables\n",
    "label_encoders = {}\n",
    "for column in X_categorical.columns:\n",
    "    le = LabelEncoder()\n",
    "    X_categorical[column] = le.fit_transform(X_categorical[column].astype(str))\n",
    "    label_encoders[column] = le\n",
    "\n",
    "# Encode the binned 'age' variable\n",
    "age_encoder = LabelEncoder()\n",
    "X_numeric['age'] = age_encoder.fit_transform(X_numeric['age'].astype(str))\n",
    "label_encoders['age'] = age_encoder\n",
    "\n",
    "# Combine numerical and categorical variables before scaling\n",
    "X_combined = pd.concat([X_numeric, X_categorical], axis=1)\n",
    "\n",
    "# Standardize numerical variables (excluding binned 'age')\n",
    "scaler = StandardScaler()\n",
    "numeric_features_to_scale = X_numeric.columns.difference(['age'])\n",
    "X_combined[numeric_features_to_scale] = scaler.fit_transform(X_combined[numeric_features_to_scale])\n",
    "\n",
    "# Rebalance the dataset\n",
    "rus = RandomUnderSampler(random_state=42)\n",
    "X_resampled, y_resampled = rus.fit_resample(X_combined, y_not_nan)\n",
    "\n",
    "# Split the data into training and validation sets\n",
    "X_train, X_val, y_train, y_val = train_test_split(X_resampled, y_resampled, test_size=0.2, random_state=42)\n"
   ]
  },
  {
   "cell_type": "code",
   "execution_count": 42,
   "id": "994c3ed0-e813-41d5-ae4b-d95f4e086ba7",
   "metadata": {},
   "outputs": [
    {
     "name": "stdout",
     "output_type": "stream",
     "text": [
      "       d1_spo2_min_new  d1_lactate_max       bmi  age  ethnicity  gender\n",
      "52100         0.233638       -0.821723  0.480922    3          2       1\n",
      "27124        -0.997528        0.126349  1.703046    3          0       0\n",
      "26972         0.233638        0.527963  0.247945    4          2       0\n",
      "14585         0.233638       -0.393774 -1.125517    5          2       0\n",
      "51821         0.069482       -0.038247  0.319227    5          2       1\n"
     ]
    }
   ],
   "source": [
    "print(X_train.head())"
   ]
  },
  {
   "cell_type": "code",
   "execution_count": 43,
   "id": "87bb99ea-a678-4f67-8546-e0570372cb87",
   "metadata": {},
   "outputs": [
    {
     "name": "stdout",
     "output_type": "stream",
     "text": [
      "       d1_spo2_min_new  d1_lactate_max       bmi  age  ethnicity  gender\n",
      "60864         0.397793       -0.492531  0.914949    3          2       0\n",
      "44149        -0.258829       -0.262097 -0.134198    4          2       1\n",
      "37775         0.151560       -0.360854 -0.499788    5          2       1\n",
      "18630        -4.773105        3.161497 -1.661243    4          2       0\n",
      "9402         -0.012595       -0.130420  0.845085    4          2       1\n"
     ]
    }
   ],
   "source": [
    "print(X_val.head())"
   ]
  },
  {
   "cell_type": "code",
   "execution_count": 44,
   "id": "d6b89034-bc5d-46ac-aff9-2231309338f6",
   "metadata": {},
   "outputs": [
    {
     "name": "stdout",
     "output_type": "stream",
     "text": [
      "Columns in X_train_mapped before plotting: Index(['d1_spo2_min_new', 'd1_lactate_max', 'bmi', 'age', 'ethnicity',\n",
      "       'gender'],\n",
      "      dtype='object')\n"
     ]
    },
    {
     "data": {
      "image/png": "[encoded data removed]",
      "text/plain": [
       "<Figure size 1200x800 with 1 Axes>"
      ]
     },
     "metadata": {},
     "output_type": "display_data"
    },
    {
     "name": "stdout",
     "output_type": "stream",
     "text": [
      "Unique values in 'ethnicity' after mapping: ['Caucasian' 'African American' 'Other/Unknown' 'Asian' 'Hispanic'\n",
      " 'Native American']\n"
     ]
    }
   ],
   "source": [
    "ethnicity_mapping = {index: label for index, label in enumerate(label_encoders['ethnicity'].classes_)}\n",
    "\n",
    "# Function to map encoded values to original labels\n",
    "def map_encoded_labels(data, column, mapping):\n",
    "    data[column] = data[column].map(mapping)\n",
    "    return data\n",
    "\n",
    "# Create a copy of X_train to avoid modifying the original dataframe\n",
    "X_train_mapped = X_train.copy()\n",
    "X_train_mapped = map_encoded_labels(X_train_mapped, 'ethnicity', ethnicity_mapping)\n",
    "\n",
    "# Function to create the plot for categorical variables with original labels\n",
    "def plot_categorical_distribution(data, column, hue, palette='muted'):\n",
    "    plt.figure(figsize=(12, 8))\n",
    "    sns.countplot(x=column, hue=hue, data=data, palette=palette)\n",
    "    plt.title(f'Distribution of {hue.name} by {column.capitalize()}')\n",
    "    plt.xlabel(column.capitalize())\n",
    "    plt.ylabel('Count')\n",
    "    plt.xticks(rotation=45)\n",
    "    plt.legend(title=hue.name.capitalize())\n",
    "    plt.show()\n",
    "\n",
    "# Check the columns in X_train_mapped\n",
    "print(\"Columns in X_train_mapped before plotting:\", X_train_mapped.columns)\n",
    "\n",
    "# Create the plot for 'ethnicity' with original labels\n",
    "plot_categorical_distribution(X_train_mapped, 'ethnicity', y_train)\n",
    "\n",
    "# Check unique values in 'ethnicity' to verify they are mapped correctly\n",
    "print(\"Unique values in 'ethnicity' after mapping:\", X_train_mapped['ethnicity'].unique())"
   ]
  },
  {
   "cell_type": "code",
   "execution_count": 45,
   "id": "877ed7b7-d78b-4ba9-93f3-9d0ece6f2491",
   "metadata": {
    "colab": {
     "base_uri": "https://localhost:8080/",
     "height": 74
    },
    "id": "AszvwBN9d3zL",
    "outputId": "14696d0d-10a2-4831-eac3-808b56d5346c"
   },
   "outputs": [
    {
     "data": {
      "text/html": [
       "<style>#sk-container-id-1 {color: black;}#sk-container-id-1 pre{padding: 0;}#sk-container-id-1 div.sk-toggleable {background-color: white;}#sk-container-id-1 label.sk-toggleable__label {cursor: pointer;display: block;width: 100%;margin-bottom: 0;padding: 0.3em;box-sizing: border-box;text-align: center;}#sk-container-id-1 label.sk-toggleable__label-arrow:before {content: \"▸\";float: left;margin-right: 0.25em;color: #696969;}#sk-container-id-1 label.sk-toggleable__label-arrow:hover:before {color: black;}#sk-container-id-1 div.sk-estimator:hover label.sk-toggleable__label-arrow:before {color: black;}#sk-container-id-1 div.sk-toggleable__content {max-height: 0;max-width: 0;overflow: hidden;text-align: left;background-color: #f0f8ff;}#sk-container-id-1 div.sk-toggleable__content pre {margin: 0.2em;color: black;border-radius: 0.25em;background-color: #f0f8ff;}#sk-container-id-1 input.sk-toggleable__control:checked~div.sk-toggleable__content {max-height: 200px;max-width: 100%;overflow: auto;}#sk-container-id-1 input.sk-toggleable__control:checked~label.sk-toggleable__label-arrow:before {content: \"▾\";}#sk-container-id-1 div.sk-estimator input.sk-toggleable__control:checked~label.sk-toggleable__label {background-color: #d4ebff;}#sk-container-id-1 div.sk-label input.sk-toggleable__control:checked~label.sk-toggleable__label {background-color: #d4ebff;}#sk-container-id-1 input.sk-hidden--visually {border: 0;clip: rect(1px 1px 1px 1px);clip: rect(1px, 1px, 1px, 1px);height: 1px;margin: -1px;overflow: hidden;padding: 0;position: absolute;width: 1px;}#sk-container-id-1 div.sk-estimator {font-family: monospace;background-color: #f0f8ff;border: 1px dotted black;border-radius: 0.25em;box-sizing: border-box;margin-bottom: 0.5em;}#sk-container-id-1 div.sk-estimator:hover {background-color: #d4ebff;}#sk-container-id-1 div.sk-parallel-item::after {content: \"\";width: 100%;border-bottom: 1px solid gray;flex-grow: 1;}#sk-container-id-1 div.sk-label:hover label.sk-toggleable__label {background-color: #d4ebff;}#sk-container-id-1 div.sk-serial::before {content: \"\";position: absolute;border-left: 1px solid gray;box-sizing: border-box;top: 0;bottom: 0;left: 50%;z-index: 0;}#sk-container-id-1 div.sk-serial {display: flex;flex-direction: column;align-items: center;background-color: white;padding-right: 0.2em;padding-left: 0.2em;position: relative;}#sk-container-id-1 div.sk-item {position: relative;z-index: 1;}#sk-container-id-1 div.sk-parallel {display: flex;align-items: stretch;justify-content: center;background-color: white;position: relative;}#sk-container-id-1 div.sk-item::before, #sk-container-id-1 div.sk-parallel-item::before {content: \"\";position: absolute;border-left: 1px solid gray;box-sizing: border-box;top: 0;bottom: 0;left: 50%;z-index: -1;}#sk-container-id-1 div.sk-parallel-item {display: flex;flex-direction: column;z-index: 1;position: relative;background-color: white;}#sk-container-id-1 div.sk-parallel-item:first-child::after {align-self: flex-end;width: 50%;}#sk-container-id-1 div.sk-parallel-item:last-child::after {align-self: flex-start;width: 50%;}#sk-container-id-1 div.sk-parallel-item:only-child::after {width: 0;}#sk-container-id-1 div.sk-dashed-wrapped {border: 1px dashed gray;margin: 0 0.4em 0.5em 0.4em;box-sizing: border-box;padding-bottom: 0.4em;background-color: white;}#sk-container-id-1 div.sk-label label {font-family: monospace;font-weight: bold;display: inline-block;line-height: 1.2em;}#sk-container-id-1 div.sk-label-container {text-align: center;}#sk-container-id-1 div.sk-container {/* jupyter's `normalize.less` sets `[hidden] { display: none; }` but bootstrap.min.css set `[hidden] { display: none !important; }` so we also need the `!important` here to be able to override the default hidden behavior on the sphinx rendered scikit-learn.org. See: https://github.com/scikit-learn/scikit-learn/issues/21755 */display: inline-block !important;position: relative;}#sk-container-id-1 div.sk-text-repr-fallback {display: none;}</style><div id=\"sk-container-id-1\" class=\"sk-top-container\"><div class=\"sk-text-repr-fallback\"><pre>LogisticRegression(max_iter=1000)</pre><b>In a Jupyter environment, please rerun this cell to show the HTML representation or trust the notebook. <br />On GitHub, the HTML representation is unable to render, please try loading this page with nbviewer.org.</b></div><div class=\"sk-container\" hidden><div class=\"sk-item\"><div class=\"sk-estimator sk-toggleable\"><input class=\"sk-toggleable__control sk-hidden--visually\" id=\"sk-estimator-id-1\" type=\"checkbox\" checked><label for=\"sk-estimator-id-1\" class=\"sk-toggleable__label sk-toggleable__label-arrow\">LogisticRegression</label><div class=\"sk-toggleable__content\"><pre>LogisticRegression(max_iter=1000)</pre></div></div></div></div></div>"
      ],
      "text/plain": [
       "LogisticRegression(max_iter=1000)"
      ]
     },
     "execution_count": 45,
     "metadata": {},
     "output_type": "execute_result"
    }
   ],
   "source": [
    "# Train the Logistic Regression model\n",
    "model = LogisticRegression(max_iter=1000)\n",
    "model.fit(X_train, y_train)"
   ]
  },
  {
   "cell_type": "markdown",
   "id": "b374bca9-f5d8-415a-aa4c-7d7ae6763733",
   "metadata": {},
   "source": [
    "## Evaluate performance on Validation set"
   ]
  },
  {
   "cell_type": "code",
   "execution_count": 46,
   "id": "ac3f5dfa-e610-412a-9245-fe3a93d5c1c5",
   "metadata": {
    "colab": {
     "base_uri": "https://localhost:8080/",
     "height": 852
    },
    "id": "KLJ1_bqrfzw9",
    "outputId": "cde29946-9076-48f6-f4d1-ab02ec1ab000"
   },
   "outputs": [
    {
     "name": "stdout",
     "output_type": "stream",
     "text": [
      "Overall Metrics:\n",
      "Accuracy:  0.6949300699300699\n",
      "Confusion Matrix:\n",
      " [[465 121]\n",
      " [228 330]]\n",
      "Classification Report:\n",
      "               precision    recall  f1-score   support\n",
      "\n",
      "           0       0.67      0.79      0.73       586\n",
      "           1       0.73      0.59      0.65       558\n",
      "\n",
      "    accuracy                           0.69      1144\n",
      "   macro avg       0.70      0.69      0.69      1144\n",
      "weighted avg       0.70      0.69      0.69      1144\n",
      "\n",
      "ROC AUC Score:  0.7753342630310593\n"
     ]
    }
   ],
   "source": [
    "# Predict on the validation set\n",
    "y_pred = model.predict(X_val)\n",
    "y_pred_proba = model.predict_proba(X_val)[:, 1]\n",
    "\n",
    "# Evaluate the model\n",
    "print(\"Overall Metrics:\")\n",
    "print(\"Accuracy: \", accuracy_score(y_val, y_pred))\n",
    "print(\"Confusion Matrix:\\n\", confusion_matrix(y_val, y_pred))\n",
    "print(\"Classification Report:\\n\", classification_report(y_val, y_pred))\n",
    "print(\"ROC AUC Score: \", roc_auc_score(y_val, y_pred_proba))\n"
   ]
  },
  {
   "cell_type": "code",
   "execution_count": 47,
   "id": "6f7b6022-fe69-470c-97f0-853e0f88e6b5",
   "metadata": {},
   "outputs": [
    {
     "data": {
      "image/png": "[encoded data removed]",
      "text/plain": [
       "<Figure size 1000x600 with 1 Axes>"
      ]
     },
     "metadata": {},
     "output_type": "display_data"
    }
   ],
   "source": [
    "# ROC Curve\n",
    "fpr, tpr, thresholds = roc_curve(y_val, y_pred_proba)\n",
    "plt.figure(figsize=(10, 6))\n",
    "plt.plot(fpr, tpr, label='Logistic Regression')\n",
    "plt.plot([0, 1], [0, 1], 'k--')\n",
    "plt.xlabel('False Positive Rate')\n",
    "plt.ylabel('True Positive Rate')\n",
    "plt.title('ROC Curve')\n",
    "plt.legend(loc='lower right')\n",
    "plt.show()"
   ]
  },
  {
   "cell_type": "markdown",
   "id": "a9a0e870-c874-483c-af49-17e0ba64bc48",
   "metadata": {},
   "source": [
    "## Explainable AI"
   ]
  },
  {
   "cell_type": "code",
   "execution_count": 48,
   "id": "2642cb40-d92b-46b8-8047-40e0cd8e40db",
   "metadata": {
    "colab": {
     "base_uri": "https://localhost:8080/",
     "height": 429,
     "referenced_widgets": [
      "38a4660db0ff4111a70e93c8c1c6e6b1",
      "8c752e56b4cf49bbb0d92a7864893a52",
      "7ae03c5f4ea740a195b394623df135dd",
      "8343d07ead904114ab21cb214d53b48a",
      "3cd856d03da44da0a21ab74b68814734",
      "b4bb68a38fe84fa7bcdc888e6a0d11ed",
      "0ca86e2c78a8454d951ce1a28d2a2f76",
      "10b74cec644945278f23ca1d70ffa96f",
      "9b501f1467ad453195f583cb59d56288",
      "639990dbdfdc4897a790e999274dc727",
      "3e0cecd017604676bae87ecc127b6e6d"
     ]
    },
    "id": "MOVfSABcUh6u",
    "outputId": "f867d3c9-1c92-4b04-d40d-449ac68dd9ac"
   },
   "outputs": [
    {
     "data": {
      "application/vnd.jupyter.widget-view+json": {
       "model_id": "41b86320521245419e2c9b87482a08d6",
       "version_major": 2,
       "version_minor": 0
      },
      "text/plain": [
       "HBox(children=(HTML(value='Estimating transforms'), FloatProgress(value=0.0, max=1000.0), HTML(value='')))"
      ]
     },
     "metadata": {},
     "output_type": "display_data"
    },
    {
     "name": "stdout",
     "output_type": "stream",
     "text": [
      "\n"
     ]
    },
    {
     "data": {
      "image/png": "[encoded data removed]",
      "text/plain": [
       "<Figure size 800x390 with 1 Axes>"
      ]
     },
     "metadata": {},
     "output_type": "display_data"
    }
   ],
   "source": [
    "# Explainability using SHAP\n",
    "explainer = shap.LinearExplainer(model, X_train, feature_perturbation=\"correlation_dependent\")\n",
    "shap_values = explainer.shap_values(X_val)\n",
    "\n",
    "# Summary plot\n",
    "shap.summary_plot(shap_values, X_val, plot_type=\"bar\")"
   ]
  },
  {
   "cell_type": "code",
   "execution_count": 49,
   "id": "9f4c2b20-0e44-4a4f-881f-3d92535f5fbd",
   "metadata": {
    "colab": {
     "base_uri": "https://localhost:8080/"
    },
    "id": "lN3UKKYLVPbq",
    "outputId": "4c96c88a-09d7-4c21-dad6-a92d95626040"
   },
   "outputs": [
    {
     "name": "stdout",
     "output_type": "stream",
     "text": [
      "\n",
      "Metrics for Ethnic Group: Caucasian\n",
      "Accuracy:  0.6915584415584416\n",
      "Confusion Matrix:\n",
      " [[356 103]\n",
      " [182 283]]\n",
      "Classification Report:\n",
      "               precision    recall  f1-score   support\n",
      "\n",
      "           0       0.66      0.78      0.71       459\n",
      "           1       0.73      0.61      0.67       465\n",
      "\n",
      "    accuracy                           0.69       924\n",
      "   macro avg       0.70      0.69      0.69       924\n",
      "weighted avg       0.70      0.69      0.69       924\n",
      "\n",
      "ROC AUC Score:  0.7715370018975332\n",
      "\n",
      "Metrics for Ethnic Group: African American\n",
      "Accuracy:  0.7350427350427351\n",
      "Confusion Matrix:\n",
      " [[55  7]\n",
      " [24 31]]\n",
      "Classification Report:\n",
      "               precision    recall  f1-score   support\n",
      "\n",
      "           0       0.70      0.89      0.78        62\n",
      "           1       0.82      0.56      0.67        55\n",
      "\n",
      "    accuracy                           0.74       117\n",
      "   macro avg       0.76      0.73      0.72       117\n",
      "weighted avg       0.75      0.74      0.73       117\n",
      "\n",
      "ROC AUC Score:  0.8073313782991203\n",
      "\n",
      "Metrics for Ethnic Group: Hispanic\n",
      "Accuracy:  0.6666666666666666\n",
      "Confusion Matrix:\n",
      " [[14  3]\n",
      " [ 5  2]]\n",
      "Classification Report:\n",
      "               precision    recall  f1-score   support\n",
      "\n",
      "           0       0.74      0.82      0.78        17\n",
      "           1       0.40      0.29      0.33         7\n",
      "\n",
      "    accuracy                           0.67        24\n",
      "   macro avg       0.57      0.55      0.56        24\n",
      "weighted avg       0.64      0.67      0.65        24\n",
      "\n",
      "ROC AUC Score:  0.6218487394957983\n",
      "\n",
      "Metrics for Ethnic Group: Other/Unknown\n",
      "Accuracy:  0.76\n",
      "Confusion Matrix:\n",
      " [[28  4]\n",
      " [ 8 10]]\n",
      "Classification Report:\n",
      "               precision    recall  f1-score   support\n",
      "\n",
      "           0       0.78      0.88      0.82        32\n",
      "           1       0.71      0.56      0.63        18\n",
      "\n",
      "    accuracy                           0.76        50\n",
      "   macro avg       0.75      0.72      0.72        50\n",
      "weighted avg       0.75      0.76      0.75        50\n",
      "\n",
      "ROC AUC Score:  0.8038194444444444\n",
      "\n",
      "Metrics for Ethnic Group: Native American\n",
      "Accuracy:  0.625\n",
      "Confusion Matrix:\n",
      " [[7 2]\n",
      " [4 3]]\n",
      "Classification Report:\n",
      "               precision    recall  f1-score   support\n",
      "\n",
      "           0       0.64      0.78      0.70         9\n",
      "           1       0.60      0.43      0.50         7\n",
      "\n",
      "    accuracy                           0.62        16\n",
      "   macro avg       0.62      0.60      0.60        16\n",
      "weighted avg       0.62      0.62      0.61        16\n",
      "\n",
      "ROC AUC Score:  0.8095238095238095\n",
      "\n",
      "Metrics for Ethnic Group: Asian\n",
      "Accuracy:  0.46153846153846156\n",
      "Confusion Matrix:\n",
      " [[5 2]\n",
      " [5 1]]\n",
      "Classification Report:\n",
      "               precision    recall  f1-score   support\n",
      "\n",
      "           0       0.50      0.71      0.59         7\n",
      "           1       0.33      0.17      0.22         6\n",
      "\n",
      "    accuracy                           0.46        13\n",
      "   macro avg       0.42      0.44      0.41        13\n",
      "weighted avg       0.42      0.46      0.42        13\n",
      "\n",
      "ROC AUC Score:  0.42857142857142855\n"
     ]
    }
   ],
   "source": [
    "# Create a copy of X_val to avoid modifying the original dataframe\n",
    "X_val_mapped = X_val.copy()\n",
    "X_val_mapped = map_encoded_labels(X_val_mapped, 'ethnicity', ethnicity_mapping)\n",
    "\n",
    "# Evaluate the model for each racial and ethnic group\n",
    "ethnic_groups = X_val_mapped['ethnicity'].unique()\n",
    "accuracy_scores = []\n",
    "roc_auc_scores = []\n",
    "\n",
    "for group in ethnic_groups:\n",
    "    group_indices = X_val_mapped['ethnicity'] == group\n",
    "    X_group = X_val_mapped[group_indices]\n",
    "    y_group_true = y_val[group_indices]\n",
    "    y_group_pred = y_pred[group_indices]\n",
    "    y_group_pred_proba = y_pred_proba[group_indices]\n",
    "    acc = accuracy_score(y_group_true, y_group_pred)\n",
    "    roc_auc = roc_auc_score(y_group_true, y_group_pred_proba)\n",
    "    accuracy_scores.append(acc)\n",
    "    roc_auc_scores.append(roc_auc)\n",
    "    print(f\"\\nMetrics for Ethnic Group: {group}\")\n",
    "    print(\"Accuracy: \", acc)\n",
    "    print(\"Confusion Matrix:\\n\", confusion_matrix(y_group_true, y_group_pred))\n",
    "    print(\"Classification Report:\\n\", classification_report(y_group_true, y_group_pred))\n",
    "    print(\"ROC AUC Score: \", roc_auc)\n"
   ]
  },
  {
   "cell_type": "code",
   "execution_count": 50,
   "id": "dbdc292a-5c97-4399-97d1-a52a126114e6",
   "metadata": {
    "colab": {
     "base_uri": "https://localhost:8080/",
     "height": 1000
    },
    "id": "Ww6LE6gMKVKr",
    "outputId": "b65f9eb9-059e-49f1-d8ce-befd00ea407e"
   },
   "outputs": [
    {
     "data": {
      "image/png": "[encoded data removed]",
      "text/plain": [
       "<Figure size 1000x600 with 1 Axes>"
      ]
     },
     "metadata": {},
     "output_type": "display_data"
    },
    {
     "data": {
      "image/png": "[encoded data removed]",
      "text/plain": [
       "<Figure size 1000x600 with 1 Axes>"
      ]
     },
     "metadata": {},
     "output_type": "display_data"
    }
   ],
   "source": [
    "# Bar plot for accuracy by ethnicity\n",
    "plt.figure(figsize=(10, 6))\n",
    "sns.barplot(x=ethnic_groups, y=accuracy_scores, palette='muted')\n",
    "plt.title('Accuracy by Ethnicity')\n",
    "plt.xlabel('Ethnicity')\n",
    "plt.ylabel('Accuracy')\n",
    "plt.xticks(rotation=45)\n",
    "plt.show()\n",
    "\n",
    "# Bar plot for ROC AUC by ethnicity\n",
    "plt.figure(figsize=(10, 6))\n",
    "sns.barplot(x=ethnic_groups, y=roc_auc_scores, palette='muted')\n",
    "plt.title('ROC AUC by Ethnicity')\n",
    "plt.xlabel('Ethnicity')\n",
    "plt.ylabel('ROC AUC')\n",
    "plt.xticks(rotation=45)\n",
    "plt.show()"
   ]
  },
  {
   "cell_type": "markdown",
   "id": "b0c5faa9-547a-4c4a-b57e-f52dabdf4feb",
   "metadata": {
    "id": "ZA76Hq0zuR_s"
   },
   "source": [
    "# Evaluete the performance of the model on test set"
   ]
  },
  {
   "cell_type": "code",
   "execution_count": 51,
   "id": "ed9a195b-ec02-44c1-b434-5749b8f2b558",
   "metadata": {
    "colab": {
     "base_uri": "https://localhost:8080/"
    },
    "id": "wX7xmCN0rGwT",
    "outputId": "89fad1db-e933-4115-9bb4-5b733e67d40e"
   },
   "outputs": [
    {
     "name": "stdout",
     "output_type": "stream",
     "text": [
      "<class 'pandas.core.frame.DataFrame'>\n",
      "RangeIndex: 18343 entries, 0 to 18342\n",
      "Data columns (total 6 columns):\n",
      " #   Column           Non-Null Count  Dtype  \n",
      "---  ------           --------------  -----  \n",
      " 0   d1_spo2_min_new  18281 non-null  float64\n",
      " 1   d1_lactate_max   4674 non-null   float64\n",
      " 2   bmi              17680 non-null  float64\n",
      " 3   age              17502 non-null  float64\n",
      " 4   ethnicity        18054 non-null  object \n",
      " 5   gender           18335 non-null  object \n",
      "dtypes: float64(4), object(2)\n",
      "memory usage: 860.0+ KB\n"
     ]
    }
   ],
   "source": [
    "X_test.info()"
   ]
  },
  {
   "cell_type": "code",
   "execution_count": 52,
   "id": "4476a565-3c8c-4610-ab7b-4fce738ac721",
   "metadata": {},
   "outputs": [],
   "source": [
    "# Remove rows with missing values in test set\n",
    "X_test_res = X_test.dropna()\n",
    "y_test_res = y_test.loc[X_test_res.index]"
   ]
  },
  {
   "cell_type": "code",
   "execution_count": 53,
   "id": "fa7be893-2682-4547-b0ca-065cced83730",
   "metadata": {},
   "outputs": [
    {
     "name": "stdout",
     "output_type": "stream",
     "text": [
      "<class 'pandas.core.frame.DataFrame'>\n",
      "Index: 4249 entries, 6 to 18339\n",
      "Data columns (total 6 columns):\n",
      " #   Column           Non-Null Count  Dtype  \n",
      "---  ------           --------------  -----  \n",
      " 0   d1_spo2_min_new  4249 non-null   float64\n",
      " 1   d1_lactate_max   4249 non-null   float64\n",
      " 2   bmi              4249 non-null   float64\n",
      " 3   age              4249 non-null   float64\n",
      " 4   ethnicity        4249 non-null   object \n",
      " 5   gender           4249 non-null   object \n",
      "dtypes: float64(4), object(2)\n",
      "memory usage: 232.4+ KB\n"
     ]
    }
   ],
   "source": [
    "X_test_res.info()"
   ]
  },
  {
   "cell_type": "code",
   "execution_count": 54,
   "id": "181771fc-e914-4c2e-bd88-153e8325c786",
   "metadata": {},
   "outputs": [
    {
     "data": {
      "text/html": [
       "<div>\n",
       "<style scoped>\n",
       "    .dataframe tbody tr th:only-of-type {\n",
       "        vertical-align: middle;\n",
       "    }\n",
       "\n",
       "    .dataframe tbody tr th {\n",
       "        vertical-align: top;\n",
       "    }\n",
       "\n",
       "    .dataframe thead th {\n",
       "        text-align: right;\n",
       "    }\n",
       "</style>\n",
       "<table border=\"1\" class=\"dataframe\">\n",
       "  <thead>\n",
       "    <tr style=\"text-align: right;\">\n",
       "      <th></th>\n",
       "      <th>d1_spo2_min_new</th>\n",
       "      <th>d1_lactate_max</th>\n",
       "      <th>bmi</th>\n",
       "      <th>age</th>\n",
       "      <th>ethnicity</th>\n",
       "      <th>gender</th>\n",
       "    </tr>\n",
       "  </thead>\n",
       "  <tbody>\n",
       "    <tr>\n",
       "      <th>6</th>\n",
       "      <td>90.0</td>\n",
       "      <td>2.6</td>\n",
       "      <td>38.173554</td>\n",
       "      <td>74.0</td>\n",
       "      <td>Caucasian</td>\n",
       "      <td>M</td>\n",
       "    </tr>\n",
       "    <tr>\n",
       "      <th>10</th>\n",
       "      <td>87.0</td>\n",
       "      <td>0.7</td>\n",
       "      <td>52.498330</td>\n",
       "      <td>59.0</td>\n",
       "      <td>Caucasian</td>\n",
       "      <td>F</td>\n",
       "    </tr>\n",
       "    <tr>\n",
       "      <th>11</th>\n",
       "      <td>96.0</td>\n",
       "      <td>1.9</td>\n",
       "      <td>27.649123</td>\n",
       "      <td>82.0</td>\n",
       "      <td>Caucasian</td>\n",
       "      <td>M</td>\n",
       "    </tr>\n",
       "    <tr>\n",
       "      <th>19</th>\n",
       "      <td>90.0</td>\n",
       "      <td>2.4</td>\n",
       "      <td>27.996375</td>\n",
       "      <td>55.0</td>\n",
       "      <td>Caucasian</td>\n",
       "      <td>M</td>\n",
       "    </tr>\n",
       "    <tr>\n",
       "      <th>20</th>\n",
       "      <td>100.0</td>\n",
       "      <td>1.5</td>\n",
       "      <td>42.380529</td>\n",
       "      <td>58.0</td>\n",
       "      <td>African American</td>\n",
       "      <td>M</td>\n",
       "    </tr>\n",
       "  </tbody>\n",
       "</table>\n",
       "</div>"
      ],
      "text/plain": [
       "    d1_spo2_min_new  d1_lactate_max        bmi   age         ethnicity gender\n",
       "6              90.0             2.6  38.173554  74.0         Caucasian      M\n",
       "10             87.0             0.7  52.498330  59.0         Caucasian      F\n",
       "11             96.0             1.9  27.649123  82.0         Caucasian      M\n",
       "19             90.0             2.4  27.996375  55.0         Caucasian      M\n",
       "20            100.0             1.5  42.380529  58.0  African American      M"
      ]
     },
     "execution_count": 54,
     "metadata": {},
     "output_type": "execute_result"
    }
   ],
   "source": [
    "X_test_res.head()"
   ]
  },
  {
   "cell_type": "code",
   "execution_count": 55,
   "id": "502900f3-59b0-4048-ab5e-027e45712080",
   "metadata": {},
   "outputs": [
    {
     "name": "stdout",
     "output_type": "stream",
     "text": [
      "<class 'pandas.core.series.Series'>\n",
      "Index: 4249 entries, 6 to 18339\n",
      "Series name: hospital_death\n",
      "Non-Null Count  Dtype\n",
      "--------------  -----\n",
      "4249 non-null   int64\n",
      "dtypes: int64(1)\n",
      "memory usage: 66.4 KB\n"
     ]
    }
   ],
   "source": [
    "y_test_res.info()"
   ]
  },
  {
   "cell_type": "code",
   "execution_count": 56,
   "id": "ee4637c6-c9de-478c-ae43-370b30ad35b8",
   "metadata": {
    "colab": {
     "base_uri": "https://localhost:8080/"
    },
    "id": "AEuApsqXglbE",
    "outputId": "c82a1db3-f33a-4c6c-ad4a-c06021071e0f",
    "scrolled": true
   },
   "outputs": [],
   "source": [
    "# Apply the same binning to the 'age' variable in the test set\n",
    "X_test_res['age'] = pd.cut(X_test_res['age'], bins=age_bins, labels=age_labels)\n",
    "\n",
    "# Encode categorical variables in the test set using the fitted label encoders\n",
    "for column in X_test_res.select_dtypes(include=[object]).columns:\n",
    "    if column in label_encoders:  # Ensure the column was encoded in the training phase\n",
    "        le = label_encoders[column]\n",
    "        X_test_res[column] = le.transform(X_test_res[column].astype(str))\n",
    "\n",
    "# Encode the binned 'age' variable in the test set\n",
    "X_test_res['age'] = age_encoder.transform(X_test_res['age'].astype(str))"
   ]
  },
  {
   "cell_type": "code",
   "execution_count": 57,
   "id": "13fa41c8-a230-4306-bbe2-d179915b3d06",
   "metadata": {},
   "outputs": [],
   "source": [
    "# Identify the numeric features to scale (excluding age)\n",
    "numeric_features_to_scale = X_test_res.select_dtypes(include=[np.number]).columns.difference(['age', 'gender', 'ethnicity'])\n",
    "\n",
    "# Apply StandardScaler to the numeric features in the test set using the fitted scaler\n",
    "X_test_res[numeric_features_to_scale] = scaler.transform(X_test_res[numeric_features_to_scale])"
   ]
  },
  {
   "cell_type": "code",
   "execution_count": 58,
   "id": "fc46199c-9f26-48c0-85af-066edf53598c",
   "metadata": {},
   "outputs": [
    {
     "data": {
      "text/html": [
       "<div>\n",
       "<style scoped>\n",
       "    .dataframe tbody tr th:only-of-type {\n",
       "        vertical-align: middle;\n",
       "    }\n",
       "\n",
       "    .dataframe tbody tr th {\n",
       "        vertical-align: top;\n",
       "    }\n",
       "\n",
       "    .dataframe thead th {\n",
       "        text-align: right;\n",
       "    }\n",
       "</style>\n",
       "<table border=\"1\" class=\"dataframe\">\n",
       "  <thead>\n",
       "    <tr style=\"text-align: right;\">\n",
       "      <th></th>\n",
       "      <th>d1_spo2_min_new</th>\n",
       "      <th>d1_lactate_max</th>\n",
       "      <th>bmi</th>\n",
       "      <th>age</th>\n",
       "      <th>ethnicity</th>\n",
       "      <th>gender</th>\n",
       "    </tr>\n",
       "  </thead>\n",
       "  <tbody>\n",
       "    <tr>\n",
       "      <th>6</th>\n",
       "      <td>0.069482</td>\n",
       "      <td>-0.097501</td>\n",
       "      <td>0.996530</td>\n",
       "      <td>4</td>\n",
       "      <td>2</td>\n",
       "      <td>1</td>\n",
       "    </tr>\n",
       "    <tr>\n",
       "      <th>10</th>\n",
       "      <td>-0.176751</td>\n",
       "      <td>-0.722965</td>\n",
       "      <td>2.628516</td>\n",
       "      <td>3</td>\n",
       "      <td>2</td>\n",
       "      <td>0</td>\n",
       "    </tr>\n",
       "    <tr>\n",
       "      <th>11</th>\n",
       "      <td>0.561949</td>\n",
       "      <td>-0.327935</td>\n",
       "      <td>-0.202492</td>\n",
       "      <td>5</td>\n",
       "      <td>2</td>\n",
       "      <td>1</td>\n",
       "    </tr>\n",
       "    <tr>\n",
       "      <th>19</th>\n",
       "      <td>0.069482</td>\n",
       "      <td>-0.163339</td>\n",
       "      <td>-0.162931</td>\n",
       "      <td>3</td>\n",
       "      <td>2</td>\n",
       "      <td>1</td>\n",
       "    </tr>\n",
       "    <tr>\n",
       "      <th>20</th>\n",
       "      <td>0.890260</td>\n",
       "      <td>-0.459612</td>\n",
       "      <td>1.475820</td>\n",
       "      <td>3</td>\n",
       "      <td>0</td>\n",
       "      <td>1</td>\n",
       "    </tr>\n",
       "  </tbody>\n",
       "</table>\n",
       "</div>"
      ],
      "text/plain": [
       "    d1_spo2_min_new  d1_lactate_max       bmi  age  ethnicity  gender\n",
       "6          0.069482       -0.097501  0.996530    4          2       1\n",
       "10        -0.176751       -0.722965  2.628516    3          2       0\n",
       "11         0.561949       -0.327935 -0.202492    5          2       1\n",
       "19         0.069482       -0.163339 -0.162931    3          2       1\n",
       "20         0.890260       -0.459612  1.475820    3          0       1"
      ]
     },
     "execution_count": 58,
     "metadata": {},
     "output_type": "execute_result"
    }
   ],
   "source": [
    "X_test_res.head()"
   ]
  },
  {
   "cell_type": "code",
   "execution_count": 59,
   "id": "a4801d43-0d2f-4642-8838-6f628cff4a52",
   "metadata": {},
   "outputs": [
    {
     "name": "stdout",
     "output_type": "stream",
     "text": [
      "\n",
      "Metrics for Ethnic Group: Caucasian\n",
      "Accuracy:  0.7564720048163757\n",
      "Confusion Matrix:\n",
      " [[2166  602]\n",
      " [ 207  347]]\n",
      "Classification Report:\n",
      "               precision    recall  f1-score   support\n",
      "\n",
      "           0       0.91      0.78      0.84      2768\n",
      "           1       0.37      0.63      0.46       554\n",
      "\n",
      "    accuracy                           0.76      3322\n",
      "   macro avg       0.64      0.70      0.65      3322\n",
      "weighted avg       0.82      0.76      0.78      3322\n",
      "\n",
      "ROC AUC Score:  0.7774918616055592\n",
      "\n",
      "Metrics for Ethnic Group: African American\n",
      "Accuracy:  0.8020618556701031\n",
      "Confusion Matrix:\n",
      " [[345  63]\n",
      " [ 33  44]]\n",
      "Classification Report:\n",
      "               precision    recall  f1-score   support\n",
      "\n",
      "           0       0.91      0.85      0.88       408\n",
      "           1       0.41      0.57      0.48        77\n",
      "\n",
      "    accuracy                           0.80       485\n",
      "   macro avg       0.66      0.71      0.68       485\n",
      "weighted avg       0.83      0.80      0.81       485\n",
      "\n",
      "ROC AUC Score:  0.7661064425770308\n",
      "\n",
      "Metrics for Ethnic Group: Hispanic\n",
      "Accuracy:  0.75\n",
      "Confusion Matrix:\n",
      " [[81 23]\n",
      " [ 8 12]]\n",
      "Classification Report:\n",
      "               precision    recall  f1-score   support\n",
      "\n",
      "           0       0.91      0.78      0.84       104\n",
      "           1       0.34      0.60      0.44        20\n",
      "\n",
      "    accuracy                           0.75       124\n",
      "   macro avg       0.63      0.69      0.64       124\n",
      "weighted avg       0.82      0.75      0.77       124\n",
      "\n",
      "ROC AUC Score:  0.739423076923077\n",
      "\n",
      "Metrics for Ethnic Group: Other/Unknown\n",
      "Accuracy:  0.7673267326732673\n",
      "Confusion Matrix:\n",
      " [[138  31]\n",
      " [ 16  17]]\n",
      "Classification Report:\n",
      "               precision    recall  f1-score   support\n",
      "\n",
      "           0       0.90      0.82      0.85       169\n",
      "           1       0.35      0.52      0.42        33\n",
      "\n",
      "    accuracy                           0.77       202\n",
      "   macro avg       0.63      0.67      0.64       202\n",
      "weighted avg       0.81      0.77      0.78       202\n",
      "\n",
      "ROC AUC Score:  0.7638515330823022\n",
      "\n",
      "Metrics for Ethnic Group: Asian\n",
      "Accuracy:  0.7647058823529411\n",
      "Confusion Matrix:\n",
      " [[44 12]\n",
      " [ 4  8]]\n",
      "Classification Report:\n",
      "               precision    recall  f1-score   support\n",
      "\n",
      "           0       0.92      0.79      0.85        56\n",
      "           1       0.40      0.67      0.50        12\n",
      "\n",
      "    accuracy                           0.76        68\n",
      "   macro avg       0.66      0.73      0.67        68\n",
      "weighted avg       0.83      0.76      0.79        68\n",
      "\n",
      "ROC AUC Score:  0.8288690476190477\n",
      "\n",
      "Metrics for Ethnic Group: Native American\n",
      "Accuracy:  0.75\n",
      "Confusion Matrix:\n",
      " [[31  8]\n",
      " [ 4  5]]\n",
      "Classification Report:\n",
      "               precision    recall  f1-score   support\n",
      "\n",
      "           0       0.89      0.79      0.84        39\n",
      "           1       0.38      0.56      0.45         9\n",
      "\n",
      "    accuracy                           0.75        48\n",
      "   macro avg       0.64      0.68      0.65        48\n",
      "weighted avg       0.79      0.75      0.77        48\n",
      "\n",
      "ROC AUC Score:  0.7863247863247863\n",
      "\n",
      "Overall Metrics on Test Set:\n",
      "Average Accuracy:  0.7650944125854479\n",
      "Average ROC AUC Score:  0.7770111246886339\n"
     ]
    }
   ],
   "source": [
    "# Create a mapping dictionary for ethnicity\n",
    "ethnicity_mapping = {index: label for index, label in enumerate(label_encoders['ethnicity'].classes_)}\n",
    "\n",
    "# Function to map encoded values to original labels\n",
    "def map_encoded_labels(data, column, mapping):\n",
    "    data[column] = data[column].map(mapping)\n",
    "    return data\n",
    "\n",
    "# Create a copy of X_test_res to avoid modifying the original dataframe\n",
    "X_test_mapped = X_test_res.copy()\n",
    "X_test_mapped = map_encoded_labels(X_test_mapped, 'ethnicity', ethnicity_mapping)\n",
    "\n",
    "# Evaluate the model for each racial and ethnic group in the test set\n",
    "ethnic_groups = X_test_mapped['ethnicity'].unique()\n",
    "accuracy_scores = []\n",
    "roc_auc_scores = []\n",
    "\n",
    "\n",
    "# Compute predictions on test set\n",
    "y_pred_test = model.predict(X_test_res)\n",
    "y_pred_proba_test = model.predict_proba(X_test_res)[:, 1]\n",
    "\n",
    "for group in ethnic_groups:\n",
    "    group_indices = X_test_mapped['ethnicity'] == group\n",
    "    X_group = X_test_mapped[group_indices]\n",
    "    y_group_true = y_test_res[group_indices]\n",
    "    y_group_pred = y_pred_test[group_indices]\n",
    "    y_group_pred_proba = y_pred_proba_test[group_indices]\n",
    "    acc = accuracy_score(y_group_true, y_group_pred)\n",
    "    roc_auc = roc_auc_score(y_group_true, y_group_pred_proba)\n",
    "    accuracy_scores.append(acc)\n",
    "    roc_auc_scores.append(roc_auc)\n",
    "    print(f\"\\nMetrics for Ethnic Group: {group}\")\n",
    "    print(\"Accuracy: \", acc)\n",
    "    print(\"Confusion Matrix:\\n\", confusion_matrix(y_group_true, y_group_pred))\n",
    "    print(\"Classification Report:\\n\", classification_report(y_group_true, y_group_pred))\n",
    "    print(\"ROC AUC Score: \", roc_auc)\n",
    "\n",
    "# Print overall metrics\n",
    "print(\"\\nOverall Metrics on Test Set:\")\n",
    "print(\"Average Accuracy: \", sum(accuracy_scores) / len(accuracy_scores))\n",
    "print(\"Average ROC AUC Score: \", sum(roc_auc_scores) / len(roc_auc_scores))"
   ]
  },
  {
   "cell_type": "code",
   "execution_count": null,
   "id": "298680aa-7b6f-4913-bc3b-1136fdfa65ee",
   "metadata": {
    "id": "Nr-1haM1uqrp"
   },
   "outputs": [],
   "source": []
  }
 ],
 "metadata": {
  "kernelspec": {
   "display_name": "Python 3 (ipykernel)",
   "language": "python",
   "name": "python3"
  },
  "language_info": {
   "codemirror_mode": {
    "name": "ipython",
    "version": 3
   },
   "file_extension": ".py",
   "mimetype": "text/x-python",
   "name": "python",
   "nbconvert_exporter": "python",
   "pygments_lexer": "ipython3",
   "version": "3.8.5"
  }
 },
 "nbformat": 4,
 "nbformat_minor": 5
}
